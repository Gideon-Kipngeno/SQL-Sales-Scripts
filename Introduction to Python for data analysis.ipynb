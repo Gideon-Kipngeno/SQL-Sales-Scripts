{
 "cells": [
  {
   "cell_type": "code",
   "execution_count": 1,
   "id": "ed74fd21-7aa9-4f53-ad52-bbe552c78aef",
   "metadata": {},
   "outputs": [
    {
     "name": "stdout",
     "output_type": "stream",
     "text": [
      "   A  B\n",
      "0  1  4\n",
      "1  2  5\n",
      "2  3  6\n"
     ]
    }
   ],
   "source": [
    "#Example of a Jupyter Notebook cell\n",
    "import pandas as pd\n",
    "data = pd.DataFrame({'A': [1, 2, 3], 'B': [4, 5, 6]})\n",
    "print(data)"
   ]
  },
  {
   "cell_type": "code",
   "execution_count": 2,
   "id": "4b589397-c5a3-4b5c-ae00-ccb1268a2ae8",
   "metadata": {
    "editable": true,
    "raw_mimetype": "",
    "slideshow": {
     "slide_type": ""
    },
    "tags": []
   },
   "outputs": [
    {
     "name": "stdout",
     "output_type": "stream",
     "text": [
      "John\n",
      "30\n",
      "5.11\n",
      "['apple', 'banana', 'orange', 'grape']\n",
      "{'name': 'Gideon', 'age': 25, 'city': 'New York'}\n",
      "Average score: 86.6\n"
     ]
    }
   ],
   "source": [
    "# Data Types\n",
    "# Numerical Types\n",
    "# Variables and data types\n",
    "name = \"John\"              #String \n",
    "age = 30                   #Integer\n",
    "height = 5.11             #Float\n",
    "is_student = True         #Boolean\n",
    "print(name)\n",
    "print(age)\n",
    "print(height)\n",
    "# Integer\n",
    "age = 25\n",
    "count = 1000\n",
    "# Float\n",
    "price = 19.99\n",
    "percentage = 85.5\n",
    "# Complex\n",
    "complex_num = 3 + 4j\n",
    "\n",
    "# Lists\n",
    "fruits = [\"apple\", \"banana\", \"orange\"]\n",
    "fruits.append(\"grape\")    # Adding items\n",
    "print(fruits)\n",
    "\n",
    "# Dictionaries\n",
    "person = {\n",
    "    \"name\": \"Gideon\",\n",
    "    \"age\": 25,\n",
    "    \"city\": \"New York\"\n",
    "}\n",
    "print(person)\n",
    "# Functions\n",
    "def calculate_average(numbers):\n",
    "    return sum(numbers) / len(numbers)\n",
    "\n",
    "scores = [85, 92, 78, 90, 88]\n",
    "average = calculate_average(scores)\n",
    "print(f\"Average score: {average}\")\n",
    "\n",
    "\n",
    "\n"
   ]
  },
  {
   "cell_type": "code",
   "execution_count": 3,
   "id": "c918a445-6e83-49a1-a7c3-c1306d1f4c94",
   "metadata": {
    "editable": true,
    "slideshow": {
     "slide_type": ""
    },
    "tags": []
   },
   "outputs": [
    {
     "name": "stdout",
     "output_type": "stream",
     "text": [
      "Data Analysis Python Programming [1, 2, 3, 4, 5] (10, 20) range(0, 10)\n"
     ]
    }
   ],
   "source": [
    "# Sequence Types\n",
    "# Strings\n",
    "name = \"Data Analysis\"\n",
    "description = 'Python Programming'\n",
    "\n",
    "# Lists (mutable)\n",
    "numbers = [1, 2, 3, 4, 5]\n",
    "mixed_data = [1, \"hello\", 3.14, True]\n",
    "\n",
    "# Tuples (immutable)\n",
    "coordinates = (10, 20)\n",
    "\n",
    "# Range\n",
    "number_sequence = range(0, 10)  # Creates a sequence from 0 to 9\n",
    "print(name,description,numbers,coordinates,number_sequence)"
   ]
  },
  {
   "cell_type": "code",
   "execution_count": 4,
   "id": "e1a57b08-eb0c-4949-9eb1-b14d62993ea3",
   "metadata": {},
   "outputs": [
    {
     "name": "stdout",
     "output_type": "stream",
     "text": [
      "{'name': 'John', 'age': 20, 'grades': [85, 90, 88]}\n"
     ]
    }
   ],
   "source": [
    "# Other Types\n",
    "# Dictionaries\n",
    "student = {\n",
    "    \"name\": \"John\",\n",
    "    \"age\": 20,\n",
    "    \"grades\": [85, 90, 88]\n",
    "}\n",
    "\n",
    "# Sets\n",
    "unique_numbers = {1, 2, 3, 3, 4}  # Stores {1, 2, 3, 4}\n",
    "\n",
    "# Boolean\n",
    "is_valid = True\n",
    "has_data = False\n",
    "print(student)"
   ]
  },
  {
   "cell_type": "code",
   "execution_count": 5,
   "id": "9044877e-2ee2-4f86-9c00-f4b0feced656",
   "metadata": {},
   "outputs": [
    {
     "name": "stdout",
     "output_type": "stream",
     "text": [
      "Data Analysis\n"
     ]
    }
   ],
   "source": [
    "# Variables in Python\n",
    "#Basic variable assignment\n",
    "age = 25\n",
    "# Snake Case\n",
    "My_name = \"Gideon\"\n",
    "# Pascal Case\n",
    "MyName = \"Gideon\"\n",
    "\n",
    "# Camel Case\n",
    "myName = \"Gideon\"\n",
    "height = 1.75\n",
    "\n",
    "# Multiple assignment\n",
    "x, y, z = 1, 2, 3\n",
    "\n",
    "# Variable reassignment\n",
    "counter = 0\n",
    "counter += 1  # Now counter = 1\n",
    "print(name)"
   ]
  },
  {
   "cell_type": "code",
   "execution_count": 6,
   "id": "b59da66c-fd17-4a2b-be8f-9f5300ec706a",
   "metadata": {},
   "outputs": [
    {
     "name": "stdout",
     "output_type": "stream",
     "text": [
      "True\n",
      "True\n",
      "False\n",
      "True\n"
     ]
    }
   ],
   "source": [
    "# Operators\n",
    "a = 10\n",
    "b = 3\n",
    "\n",
    "addition = a + b        #outputs: 13\n",
    "subtraction = a - b     #outputs: 7\n",
    "multiplication = a * b  #outputs: 30\n",
    "division = a / b        #outputs: 3.3333...\n",
    "floor_division = a // b #outputs: 3\n",
    "modulus = a % b         #outputs: 1\n",
    "exponent = a ** b       #outputs: 1000\n",
    "\n",
    "# Comparison Operators\n",
    "x = 5\n",
    "y = 10\n",
    "\n",
    "print(x < y)   # True\n",
    "print(x >= 5)  # True\n",
    "print(x == y)  # False\n",
    "print(x != y)  # True"
   ]
  },
  {
   "cell_type": "code",
   "execution_count": 7,
   "id": "d6f1af09-6735-4d99-b108-fd33d870a8ed",
   "metadata": {},
   "outputs": [
    {
     "name": "stdout",
     "output_type": "stream",
     "text": [
      "Hello there,  My name is Gideon and I am 30 years old.\n"
     ]
    }
   ],
   "source": [
    "# String Operations\n",
    "# String creation\n",
    "single_quoted = 'Hello'\n",
    "double_quoted = \"World\"\n",
    "multi_line = '''This is a multi-line string'''\n",
    "\n",
    "# String indexing and slicing\n",
    "text = \"Python\"\n",
    "first_char = text[0]    # 'P'\n",
    "last_char = text[-1]    # 'n'\n",
    "substring = text[1:4]   # 'yth'\n",
    "\n",
    "# String concatenation\n",
    "greeting = \"Hello\" + \" \" + \"there\" + \", \"    # \"Hello there\"\n",
    "\n",
    "# String formatting using f-strings\n",
    "name = \"Gideon\"\n",
    "age = 30\n",
    "message = f\"My name is {name} and I am {age} years old.\"\n",
    "print(greeting + \" \" + message)"
   ]
  },
  {
   "cell_type": "code",
   "execution_count": 8,
   "id": "05fd635c-a936-4945-be0c-76326816a3ae",
   "metadata": {},
   "outputs": [
    {
     "name": "stdout",
     "output_type": "stream",
     "text": [
      "[2 4 6 8]\n"
     ]
    }
   ],
   "source": [
    "# Essential Libraries for Data Analytics in Python\n",
    "# NumPy– Working with Arrays\n",
    "import numpy as np\n",
    "# Create a NumPy array\n",
    "array = np.array([1, 2, 3, 4])\n",
    "print(array * 2) \n",
    "\n",
    "# Outputs: [2 4 6 8]"
   ]
  },
  {
   "cell_type": "code",
   "execution_count": 9,
   "id": "77a3d7a4-017d-417d-bb28-e39704f4a4f2",
   "metadata": {},
   "outputs": [
    {
     "name": "stdout",
     "output_type": "stream",
     "text": [
      "    Name  Age\n",
      "2  Peter   35\n"
     ]
    }
   ],
   "source": [
    "# pandas\n",
    "import pandas as pd\n",
    "# Create a DataFrame\n",
    "data = {'Name': ['John', 'Anna', 'Peter'], 'Age': [28, 24, 35]}\n",
    "df = pd.DataFrame(data)\n",
    "# Filter rows where Age is greater than 30\n",
    "filtered_df = df[df['Age'] > 30]\n",
    "print(filtered_df)"
   ]
  },
  {
   "cell_type": "code",
   "execution_count": 10,
   "id": "243789e2-992e-4e35-a56d-9263f66e1466",
   "metadata": {},
   "outputs": [
    {
     "data": {
      "image/png": "[encoded data removed]",
      "text/plain": [
       "<Figure size 640x480 with 1 Axes>"
      ]
     },
     "metadata": {},
     "output_type": "display_data"
    }
   ],
   "source": [
    "# Matplotlib and Seaborn\n",
    "import matplotlib.pyplot as plt\n",
    "# Create a simple plot\n",
    "x = [1, 2, 3, 4]\n",
    "y = [10, 20, 25, 30]\n",
    "plt.plot(x, y)\n",
    "plt.xlabel('X-axis')\n",
    "plt.ylabel('Y-axis')\n",
    "plt.title('Simple Line Plot')\n",
    "plt.show()"
   ]
  },
  {
   "cell_type": "code",
   "execution_count": 11,
   "id": "32649c0f-3df9-46d2-b307-1280150c1dc9",
   "metadata": {},
   "outputs": [
    {
     "name": "stdout",
     "output_type": "stream",
     "text": [
      "Average Profit: $42.5\n",
      "Year with highest profit: 2022\n"
     ]
    },
    {
     "data": {
      "image/png": "[encoded data removed]",
      "text/plain": [
       "<Figure size 1000x600 with 1 Axes>"
      ]
     },
     "metadata": {},
     "output_type": "display_data"
    }
   ],
   "source": [
    "# Data Analysis Example\n",
    "import pandas as pd\n",
    "import matplotlib.pyplot as plt\n",
    "\n",
    "# Create sample data\n",
    "data = {\n",
    "    'Year': [2019, 2020, 2021, 2022],\n",
    "    'Sales': [100, 120, 150, 180],\n",
    "    'Expenses': [80, 90, 100, 110]\n",
    "}\n",
    "\n",
    "# Create DataFrame\n",
    "df = pd.DataFrame(data)\n",
    "\n",
    "# Calculate profit\n",
    "df['Profit'] = df['Sales'] - df['Expenses']\n",
    "\n",
    "# Basic analysis\n",
    "average_profit = df['Profit'].mean()\n",
    "max_profit_year = df.loc[df['Profit'].idxmax(), 'Year']\n",
    "\n",
    "print(f\"Average Profit: ${average_profit}\")\n",
    "print(f\"Year with highest profit: {max_profit_year}\")\n",
    "\n",
    "# Create visualization\n",
    "plt.figure(figsize=(10, 6))\n",
    "plt.plot(df['Year'], df['Profit'], marker='o')\n",
    "plt.title('Profit Trend Over Years')\n",
    "plt.xlabel('Year')\n",
    "plt.ylabel('Profit ($)')\n",
    "plt.grid(True)\n",
    "plt.show()"
   ]
  },
  {
   "cell_type": "code",
   "execution_count": 12,
   "id": "2093d4c0-e9c0-4275-8a44-d60a7339c454",
   "metadata": {},
   "outputs": [
    {
     "name": "stdout",
     "output_type": "stream",
     "text": [
      "[1, 2, 3, 4]\n",
      "(1, 2, 3)\n"
     ]
    }
   ],
   "source": [
    "# Lists vs. Tuples\n",
    "# Lists\n",
    "my_list = [1, 2, 3] \n",
    "my_list.append(4)  # Adding an element\n",
    "\n",
    "# Tuples\n",
    "my_tuple = (1, 2, 3)\n",
    "print(my_list)\n",
    "print(my_tuple)"
   ]
  },
  {
   "cell_type": "code",
   "execution_count": 13,
   "id": "7c8191fa-41e8-4522-ac7b-a6c86a893e73",
   "metadata": {},
   "outputs": [
    {
     "name": "stdout",
     "output_type": "stream",
     "text": [
      "Mean of the data: 3.0\n"
     ]
    }
   ],
   "source": [
    "# Functions in Data Analysis\n",
    "def analyze_data(data):\n",
    "    \"\"\" Calculates the mean of a NumPy array.\"\"\"\n",
    "    return np.mean(data)\n",
    "# Using the function\n",
    "data = np.array([1, 2, 3, 4, 5])\n",
    "result = analyze_data(data)\n",
    "print(f\"Mean of the data: {result}\")"
   ]
  }
 ],
 "metadata": {
  "kernelspec": {
   "display_name": "Python 3",
   "language": "python",
   "name": "python3"
  },
  "language_info": {
   "codemirror_mode": {
    "name": "ipython",
    "version": 3
   },
   "file_extension": ".py",
   "mimetype": "text/x-python",
   "name": "python",
   "nbconvert_exporter": "python",
   "pygments_lexer": "ipython3",
   "version": "3.12.1"
  }
 },
 "nbformat": 4,
 "nbformat_minor": 5
}
